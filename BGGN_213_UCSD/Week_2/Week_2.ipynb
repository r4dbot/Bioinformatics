{
 "cells": [
  {
   "cell_type": "markdown",
   "id": "c7e4f82e",
   "metadata": {},
   "source": [
    "#### Muhammad Rady Irawan\n",
    "\n",
    "* Bioinformatics compilaton https://github.com/r4dbot"
   ]
  },
  {
   "cell_type": "markdown",
   "id": "41f0360d",
   "metadata": {},
   "source": [
    "# BGGN213 UCSD \n",
    "## Sequence alignment fundamentals, algorithms and applications - Week 2 \n",
    "Dr. Barry Grant\n",
    "<br>http://thegrantlab.org\n",
    "<br>course source: https://bioboot.github.io/bggn213_W21/ "
   ]
  },
  {
   "cell_type": "markdown",
   "id": "d6c97bd7",
   "metadata": {},
   "source": [
    "**Overview**: Aligning novel sequences with previously characterized genes or proteins provides important insights into their common attributes and evolutionary origins. \n",
    "\n",
    "In **sections 1 & 2** of this hands-on session we will first explore the principles and methods underlying the computational comparison and alignment of biomolecular sequences. \n",
    "\n",
    "In **section 3** we explore how these methods are used to search databases to identify homologues sequences (i.e. finding evolutionary related genes or proteins that are descended from a common ancestor).\n",
    "\n",
    "With the optional extension exercises in **section 4 to 6** we highlight the detection limits of conventional BLAST. We then introduce more sensitive (but often more time consuming) approaches including Profiles, PSI-BLAST and Hidden Markov Models (HMMs). \n",
    "\n",
    "Finally, in **section 7** we apply \"gold standard\" structural alignment approaches to highlight how protein structure similarities can remain robust even as sequence similarities fade below our detection limits during the course of evolution."
   ]
  },
  {
   "cell_type": "markdown",
   "id": "5e8b94fe",
   "metadata": {},
   "source": [
    "<h3><u>Section 1: Dot Plot Parameters</u></h3>"
   ]
  },
  {
   "cell_type": "markdown",
   "id": "be87672e",
   "metadata": {},
   "source": [
    "Dot plots are a simple graphical approach for the visual comparison of two sequences. They have a long history (see [Maizel and Lenk 1981](https://pubmed.ncbi.nlm.nih.gov/6801656/) and references therein) and entail placing one sequence on the vertical axis of a 2D grid (or matrix) and the other on the horizontal. \n",
    "\n",
    "In its simplest form, a dot is placed where the horizontal and vertical sequence values match. More elaborate forms use *'sliding windows'* composed of multiple characters and a threshold value, or *'match stringency'* for two windows to be considered as matched."
   ]
  },
  {
   "cell_type": "markdown",
   "id": "654f37e6",
   "metadata": {},
   "source": []
  },
  {
   "cell_type": "markdown",
   "id": "980929a2",
   "metadata": {},
   "source": [
    "Visit our very own simple dot plot web-app (http://bio3d.ucsd.edu/dotplot/ or it’s mirror https://bioboot.shinyapps.io/dotplot/) and get a feel for how altering these major dot plot parameters \n",
    "change the displayed protein and DNA dot plots. \n",
    "\n",
    "**N.B.** Note the <font color = red><u>questions</u></font> listed on the web page (also found below) and add your answers in the space provided on the next page"
   ]
  },
  {
   "cell_type": "markdown",
   "id": "bbfeeed1",
   "metadata": {},
   "source": [
    "<h3><font color = red>Q1.<span style=\"font-weight:normal\"> Why does the DNA sequence have more dots than the protein sequence plot?</span></font></h3>\n",
    "<font color = green>HINT: what do you know about DNA composition vs protein composition?</font>\n"
   ]
  },
  {
   "cell_type": "markdown",
   "id": "61ae55ff",
   "metadata": {},
   "source": [
    "<h3><font color = red>Q2. <span style=\"font-weight:normal\">How can we increase the signal to noise ratio?</span></font></h3>"
   ]
  },
  {
   "cell_type": "markdown",
   "id": "41dca8a3",
   "metadata": {},
   "source": [
    "<h3><font color = red>Q3.<span style=\"font-weight:normal\"> What does a 'Match stringency' larger than 'Window size' yield and why?</span></font></h3>"
   ]
  },
  {
   "cell_type": "markdown",
   "id": "1a6abd4e",
   "metadata": {},
   "source": [
    "<h3><font color=red>Q4. <span style=\"font-weight:normal\">What are the major weaknesses of this approach?</span></font></h3><font color = green> HINT: is your inner nerd happy with this approach? How would you use it to determine if a second set of sequences was more similar to each other than a first set of sequences?</font>"
   ]
  },
  {
   "cell_type": "markdown",
   "id": "60b43a76",
   "metadata": {},
   "source": [
    "<h3><u>Section 2: Needleman-Wunsch Alignment</u></h3>\n",
    "Sequence alignment methods often use something called a ‘dynamic programming’ algorithm \n",
    "that can be usefully considered as an extension of the dot plot approach. Here we have two \n",
    "sample sequences, and we’d like to use the <b>Needleman-Wunsch algorithm</b> discussed in class \n",
    "to align them.\n",
    "\n",
    ">Sequence 1: **ATTGC**\n",
    "<br>Sequence 2: **AGTTC**"
   ]
  },
  {
   "cell_type": "markdown",
   "id": "be91ad6d",
   "metadata": {},
   "source": [
    "<h3><font color = red>Q5. </font><font color = blue> <span style=\"font-weight:normal\">Using a</span> match score of +2, <span style=\"font-weight:normal\"> a</span> mismatch score of -1,  <span style=\"font-weight:normal\">and a</span> gap score of -2. <font color = red><span style=\"font-weight:normal\">Fill in the table below and translate it into a alignment. What is the optimal score for this alignment? Is there one unique alignment with this score?</span></font></font></h3>"
   ]
  },
  {
   "cell_type": "markdown",
   "id": "df88af1e",
   "metadata": {},
   "source": []
  },
  {
   "cell_type": "markdown",
   "id": "a2844211",
   "metadata": {},
   "source": [
    "Practice makes perfect. Again use the **Needleman-Wunsch algorithm** discussed in class to align the following sequences:\n",
    "\n",
    ">Sequence 1: **TATAG**\n",
    "<br>Sequence 2: **GTTAC**"
   ]
  },
  {
   "cell_type": "markdown",
   "id": "29c61cf3",
   "metadata": {},
   "source": [
    "\n",
    "<h3><font color = red>Q6. </font><font color = blue> <span style=\"font-weight:normal\">Using a</span> match score of +2, <span style=\"font-weight:normal\"> a</span> mismatch score of -1,  <span style=\"font-weight:normal\">and a</span> gap score of -2. <font color = red>  <span style=\"font-weight:normal\"> Write out your alignment matrix (table), fill in the values and translate your results into all optimal alignments. What is the optimal alignment score for these sequences? Write out all alignments consistent with this score?</span></font></font></h3>\n",
    " "
   ]
  },
  {
   "cell_type": "markdown",
   "id": "f2db28b3",
   "metadata": {},
   "source": []
  },
  {
   "cell_type": "markdown",
   "id": "9761a43a",
   "metadata": {},
   "source": [
    "<h3><u>Section 3: Finding homologous sequence</u></h3>\n",
    "Your collaborators found a protein while working on a fly species and have asked you to see if \n",
    "there are any human homologs."
   ]
  },
  {
   "cell_type": "markdown",
   "id": "1bc85dd7",
   "metadata": {},
   "source": [
    "<p style=\"text-align:justify;\"><font color=green>>fly_protein<br> \n",
    "MDNHSSVPWASAASVTCLSLDAKCHSSSSSSSSKSAASSISAIPQEETQTMRHIAHTQRCLSRLTSLVAL \n",
    "LLIVLPMVFSPAHSCGPGRGLGRHRARNLYPLVLKQTIPNLSEYTNSASGPLEGVIRRDSPKFKDLVPNY \n",
    "NRDILFRDEEGTGADRLMSKRCKEKLNVLAYSVMNEWPGIRLLVTESWDEDYHHGQESLHYEGRAVTIAT \n",
    "SDRDQSKYGMLARLAVEAGFDWVSYVSRRHIYCSVKSDSSISSHVHGCFTPESTALLESGVRKPLGELSI \n",
    "GDRVLSMTANGQAVYSEVILFMDRNLEQMQNFVQLHTDGGAVLTVTPAHLVSVWQPESQKLTFVFADRIE \n",
    "EKNQVLVRDVETGELRPQRVVKVGSVRSKGVVAPLTREGTIVVNSVAASCYAVINSQSLAHWGLAPMRLL \n",
    "STLEAWLPAKEQLHSSPKVVSSAQQQNGIHWYANALYKVKDYVLPQSWRHD</font></p>"
   ]
  },
  {
   "cell_type": "markdown",
   "id": "31af3cc0",
   "metadata": {},
   "source": [
    "<h3><font color = red>Q7.<span style=\"font-weight:normal\"> Using the default settings for NCBI BLAST, can you find any homologs for this protein in Humans? </span></font></h3>\n",
    "<font color = green> HINT: try using the <i>LIMITS</i> and <i>FILTERING</i> options we covered in the last lab.</font>"
   ]
  },
  {
   "cell_type": "markdown",
   "id": "a918de3a",
   "metadata": {},
   "source": [
    "<h3><font color = red>Q8. <span style=\"font-weight:normal\">Try changing the database to <b>refseq_protein</b>. From the results, select a few proteins and find the common name for the species. What trend do you notice as you move down the results list?</span></font></h3>\n",
    "<font color = green>HINT: search google for the species name.</font>"
   ]
  },
  {
   "cell_type": "markdown",
   "id": "eb7f083a",
   "metadata": {},
   "source": [
    "<h3><font color = red>Q9. <span style=\"font-weight:normal\">Finally, try also limiting the search to only <i>H. Sapiens</i>. What function do these proteins have?</span></font></h3> <font color = green>HINT: you can simply type the Taxon ID <b>9606</b> in the <b>“Organism”</b> box. </font>"
   ]
  },
  {
   "cell_type": "markdown",
   "id": "026a5ed6",
   "metadata": {},
   "source": [
    "<h3><font color = red>Q10.<span style=\"font-weight:normal\"> What function do you think this protein performs for your collaborators’ organism?</span></font></h3>"
   ]
  },
  {
   "cell_type": "markdown",
   "id": "c681f8f7",
   "metadata": {},
   "source": [
    "<h3><font color= green>EXTENSION SECTIONS</font></h3>\n",
    "The remaining sections of this worksheet are optional. These sections delve deeper into more advanced topics that will be of interest to motivated students"
   ]
  },
  {
   "cell_type": "markdown",
   "id": "e09ae113",
   "metadata": {},
   "source": [
    "<h3><u>Section 4: The limits of using BLAST for remote homologue detection</u></h3>\n",
    "Let’s return to the HBB protein that we explored in a previous class and see if we can find \n",
    "distantly related myoglobin and neuroglobin using this as a BLAST query."
   ]
  },
  {
   "cell_type": "markdown",
   "id": "2b6fc298",
   "metadata": {},
   "source": [
    "<font color=green>>gi|4504349|ref|NP_000509.1| hemoglobin subunit beta [Homo sapiens] \n",
    "MVHLTPEEKSAVTALWGKVNVDEVGGEALGRLLVVYPWTQRFFESFGDLSTPDAVMGNPKVKAHGKKVLG<br>\n",
    "AFSDGLAHLDNLKGTFATLSELHCDKLHVDPENFRLLGNVLVCVLAHHFGKEFTPPVQAAYQKVVAGVAN<br>ALAHKYH</font>"
   ]
  },
  {
   "cell_type": "markdown",
   "id": "3f01e3b6",
   "metadata": {},
   "source": [
    "After selecting **blastp** and entering the sequence, be sure to change the search database to **“refseq-protein”** and restrict our search organism to only **humans** (taxid: 9605). This will help focus our results to highlight distant homologs in humans. "
   ]
  },
  {
   "cell_type": "markdown",
   "id": "50e9ac82",
   "metadata": {},
   "source": [
    "<h3><font color = red>Q11. <span style=\"font-weight:normal\">What homologs did you find with this simple blastp search? Note their <i>precent identities</i>, <i>coverage</i> and <i>E-values.</i></span></font></h3>"
   ]
  },
  {
   "cell_type": "markdown",
   "id": "cff01d74",
   "metadata": {},
   "source": [
    "Now we could try changing the **Algorithm parameters** on the submission page to increase the number of hits reported. To do this you can click on the **Edit and Resubmit** link at the top left of your results page."
   ]
  },
  {
   "cell_type": "markdown",
   "id": "18d9e421",
   "metadata": {},
   "source": [
    "<h3><font color = red>Q12. <span style=\"font-weight:normal\"> Try increasing the <b>Expect threshold</b> for your blasts search. What new hits were reported? What about their alignment statistics? Do you trust these matches?</span></font></h3>"
   ]
  },
  {
   "cell_type": "markdown",
   "id": "37f6994e",
   "metadata": {},
   "source": [
    "Many useful ‘rules of thumb’ are expressed in terms of precent identity. If two proteins have more than 45% identical residues in their optimal alignment they typically have very similar structures and are likely to have a similar function. If two proteins have more than 25% identical residues (but less than 45% identity), they are likely to have a similar general folding pattern. Note that we will expand on the basis of this important *sequence* > *structure* > *function* relationship in a subsequent class unit.\n",
    "\n",
    "Observations of a lower degree of sequence similarity cannot however rule out homology. Our very own Russ Doolittle ( http://biology.ucsd.edu/research/faculty/rdoolttle ) defined the region between 18-25% sequence identity as the **“twilight zone”** in which the suggestion of homology is tantalizing but dangerous. Below the twilight zone is a region where pairwise sequence \n",
    "alignments tell us very little - sometimes called the “midnight zone”."
   ]
  },
  {
   "cell_type": "markdown",
   "id": "3d31c14c",
   "metadata": {},
   "source": [
    "<h3><u>Section 5: Using PSI-BLAST</u></h3>\n",
    "Although the twilight zone is a treacherous region, we are not entirely helpless. In deciding whether there is a genuine relationship, the <i>‘texture’</i> of the alignment is important - essentially are the similar amino-acids isolated and scattered throughout the sequences, or are there characteristic <i>‘icebergs’</i> - local regions of high similarity seen in many distant sequences that may correspond to a shared active site or other functional motif? \n",
    "\n",
    "Lets return to your previous BLAST submission page with the HBB example from before. This time select the **PSI-BLAST** algorithm from the ‘Program Selection’ options section. Other settings should be as before (remember to reset your Expect threshold to default if you changed this previously) and use **refseq_protein** and search only in humans again."
   ]
  },
  {
   "cell_type": "markdown",
   "id": "9fd3c8ea",
   "metadata": {},
   "source": []
  },
  {
   "cell_type": "markdown",
   "id": "7f4b03f1",
   "metadata": {},
   "source": [
    "<h3><font color = red>Q13.<span style=\"font-weight:normal\"> The first iteration should be similar to your previous blastp search. Did you find any new potential homologs that you did not see previously? </span></font></h3>"
   ]
  },
  {
   "cell_type": "markdown",
   "id": "634b07ad",
   "metadata": {},
   "source": [
    "<h3><font color = red>Q14.<span style=\"font-weight:normal\"> Now, we’d like to search for more distant homology, using another iteration of PSI-BLAST. Were you able to find any other proteins? If so, what were they and what function do they perform? </span></font></h3>"
   ]
  },
  {
   "cell_type": "markdown",
   "id": "637b2005",
   "metadata": {},
   "source": []
  },
  {
   "cell_type": "markdown",
   "id": "12479a3f",
   "metadata": {},
   "source": [
    "<h3><font color = red>Q15.<span style=\"font-weight:normal\"> Perform a third iteration. Did the algorithm find any other proteins? Did we find myoglobin and neuroglobin? </span></font></h3>"
   ]
  },
  {
   "cell_type": "markdown",
   "id": "cb1b4635",
   "metadata": {},
   "source": [
    "<h3><u>Section 6: Using HMMER</u> (<font color = green>OPTIONAL:<span style=\"font-weight:normal\"> Note <i>server can be very slow! </i></span></font>)</h3>\n",
    "HMMER is an alternative sequence search and alignment method that employees probabilistic models called profile hidden Markov models (HMMs). HMMER aims to be significantly more accurate and more able to detect remote homologs than BLAST because of the strength of its underlying mathematical models. In the past, this strength came at significant computational expense, but in the new HMMER3 project, HMMER is now essentially as fast as BLAST.\n",
    "\n",
    "Lets use the new HMMER3 online @ http://www.ebi.ac.uk/Tools/hmmer/search/phmmer to examine how results compare to those obtained from BLAST and PSI-BLAST in the last section. "
   ]
  },
  {
   "cell_type": "markdown",
   "id": "b59dab47",
   "metadata": {},
   "source": [
    "<h3><font color = red>Q16.<span style=\"font-weight:normal\"> Performing a HMMER (phmmer) search with our HBB sequence above against the <b>SwissProt</b> database and setting the <b>“Restrict by Taxonomy”</b> to <b>9606</b>, how do your results compare to those from regular BLAST and PSI-BLAST? </span></font></h3>"
   ]
  },
  {
   "cell_type": "markdown",
   "id": "bbffcdf9",
   "metadata": {},
   "source": [
    "<h3><font color = red>Q17.<span style=\"font-weight:normal\"> Did you find myoglobin and neuroglobin? Are there any neuroglobin PDB structures available? If so take a record of their PDB codes for later. </span></font></h3>"
   ]
  },
  {
   "cell_type": "markdown",
   "id": "c2094bb3",
   "metadata": {},
   "source": [
    "<h3><font color = red>Q18.<span style=\"font-weight:normal\"> How long did your search take?  </span></font></h3>\n",
    "<font color = green>Was the web server accessible and responsive?</font>"
   ]
  },
  {
   "cell_type": "markdown",
   "id": "6ebee7ce",
   "metadata": {},
   "source": [
    "HMMER is at the forefront of sequence-only based methods for detecting distant relatives. This \n",
    "tool is used to construct the PFAM (protein families) database. Find the link to the PFAM entry \n",
    "for the Globin family from your HMMER search results. Click on the HMM Logo link and \n",
    "determine the most conserved residues in this family"
   ]
  },
  {
   "cell_type": "markdown",
   "id": "d0c7726d",
   "metadata": {},
   "source": []
  },
  {
   "cell_type": "markdown",
   "id": "9e38357e",
   "metadata": {},
   "source": [
    "<h3><font color = red>Q19. <span style=\"font-weight:normal\">Inspect the <b>HMM Logo</b> link for the PFAM Globin family and determine the most conserved residues in this family. What role might these residues play in these proteins? </span></font></h3>"
   ]
  },
  {
   "cell_type": "markdown",
   "id": "54e7dabe",
   "metadata": {},
   "source": [
    "In the molecular figure of beta globin here we have colored each residue position by the level of conservation in the alignment obtained from HMMER (blue - least conserved, red - most conserved). This information should help you answer Q10. "
   ]
  },
  {
   "cell_type": "markdown",
   "id": "97b3f23f",
   "metadata": {},
   "source": [
    "<font color=green><b>Note:</b> If the HMMER web server was unresponsive you can search PFAM directly @</font> <font color=green>https://pfam.xfam.org to help answer Q10.</font>"
   ]
  },
  {
   "cell_type": "markdown",
   "id": "d49604ef",
   "metadata": {},
   "source": [
    "<h3><u>Section 7: Divergence of protein sequence and protein structure during evolution</u></h3>"
   ]
  },
  {
   "cell_type": "markdown",
   "id": "905934b9",
   "metadata": {},
   "source": [
    "In this case, as in many other examples in the twilight zone, protein structure can yield important insights. This is primarily because protein structure similarities remain robust as sequence similarities fade during the course of evolution. If protein structures are available for your tentative homologues it is advisable to examine their structural similarity and the overlap of conserved sequence regions at potentially functional sites. We will cover this important topic in more detail in s later class. For now we will use the FATCAT **pairwise structural alignment** server to examine the similarities of our beta globin and neuroglobin proteins"
   ]
  },
  {
   "cell_type": "markdown",
   "id": "866b4c9c",
   "metadata": {},
   "source": [
    "Visit: http://fatcat.godziklab.org/fatcat/fatcat_pair.html and enter the *PDB code* **2HBS** *chain* **B** for \n",
    "the first structure. Then enter one PDB code for neuroglobin you found from answering <font color = red>Q17</font>\n",
    "previously (see below for an example)."
   ]
  },
  {
   "cell_type": "markdown",
   "id": "b0b43819",
   "metadata": {},
   "source": []
  },
  {
   "cell_type": "markdown",
   "id": "b095fe58",
   "metadata": {},
   "source": [
    "Click *SUBMIT* to run the calculaFon and view the resulFng structure superposi.on (basically a fit of one structure onto the other) online in their **\"Interac4ve viewer\"** by clicking the green arrow (see below): "
   ]
  },
  {
   "cell_type": "markdown",
   "id": "319ddbf6",
   "metadata": {},
   "source": []
  },
  {
   "cell_type": "markdown",
   "id": "c1e25d25",
   "metadata": {},
   "source": [
    "Note how similar in structure these two distant homologues are.\n",
    "\n",
    "Explore the different display options on this page. For the image here I have selected *Render as*: **cartoon** and *Color by*: **chain**. This has the effect of having the first chain colored blue and (that is our beta globin) and the second (neuroglobin) dark yellow. "
   ]
  },
  {
   "cell_type": "markdown",
   "id": "cc6405ec",
   "metadata": {},
   "source": []
  },
  {
   "cell_type": "markdown",
   "id": "88ae15fd",
   "metadata": {},
   "source": [
    "<h3><font color = red>Q20.<span style=\"font-weight:normal\"> Can you find the most divergent in structure regions? Where are they located in the structure (interior/exterior in secondary structure elements or loops)? </span></font></h3>\n"
   ]
  },
  {
   "cell_type": "markdown",
   "id": "92b9bdf0",
   "metadata": {},
   "source": [
    "**Take home:** Unfortunately, we wont always have a structure available for the system under investigation \n",
    "but when we do they can provide invaluable insight into evoluFonary and funcFonal mechanisms. "
   ]
  },
  {
   "cell_type": "code",
   "execution_count": null,
   "id": "5c993919",
   "metadata": {},
   "outputs": [],
   "source": []
  },
  {
   "cell_type": "markdown",
   "id": "f49ffa4e",
   "metadata": {},
   "source": [
    "<h3><font color = red>Q1.<span style=\"font-weight:normal\"> </span></font></h3>\n",
    "<font color = green>HINT: what do you know about DNA composition vs protein composition?</font>"
   ]
  }
 ],
 "metadata": {
  "kernelspec": {
   "display_name": "R",
   "language": "R",
   "name": "ir"
  },
  "language_info": {
   "codemirror_mode": "r",
   "file_extension": ".r",
   "mimetype": "text/x-r-source",
   "name": "R",
   "pygments_lexer": "r",
   "version": "3.6.1"
  }
 },
 "nbformat": 4,
 "nbformat_minor": 5
}

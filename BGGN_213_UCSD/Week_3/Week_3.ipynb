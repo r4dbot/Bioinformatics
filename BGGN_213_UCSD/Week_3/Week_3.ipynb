{
 "cells": [
  {
   "cell_type": "markdown",
   "id": "c4807e5f",
   "metadata": {},
   "source": [
    "#### Muhammad Rady Irawan\n",
    "\n",
    "* Bioinformatics compilaton https://github.com/r4dbot"
   ]
  },
  {
   "cell_type": "markdown",
   "id": "5a4a3e1f",
   "metadata": {},
   "source": [
    "# BGGN213 UCSD \n",
    "## R Language Basics (Part 1) - Week 3 \n",
    "Dr. Barry Grant\n",
    "<br>http://thegrantlab.org\n",
    "<br>course source: https://bioboot.github.io/bggn213_W21/ "
   ]
  },
  {
   "cell_type": "markdown",
   "id": "a2db6f8e",
   "metadata": {},
   "source": [
    "### 1. Background\n",
    "R is powerful data programming language that you can use to explore and understand data in an open-ended, highly interactive, iterative way. Learning R will give you the freedom to experiment and problem solve during data analysis — exactly what we need as bioinformaticians.\n",
    "\n",
    "Before delving into working with real data in R, we need to learn the basics of the R language. In this section, we’ll learn how to do simple calculations in R, assign values to variables, and call functions. Then, we’ll look at R’s vectors, vector data types, and vectorization. Vectors and vectorization underpin how we approach many problems in R."
   ]
  },
  {
   "cell_type": "markdown",
   "id": "6bfd4581",
   "metadata": {},
   "source": [
    "### 2. Simple Calculations\n",
    "Open RStudio, or a terminal R prompt, and try typing the basic arithmetic below. If you are using RStudio we will be typing directly into the Console that contains the live R process."
   ]
  },
  {
   "cell_type": "markdown",
   "id": "39bf7eca",
   "metadata": {},
   "source": [
    ">**Side-note**: If you are confused about this please pause and watch the [first 3 mins of this video](https://www.youtube.com/watch?v=3LOTxeQEHSM&t=15s) before coming back to enter the commands below in your own RStudio console window. If you feel like skipping ahead - **DON’T** - it will make it hard for us to be friends later."
   ]
  },
  {
   "cell_type": "code",
   "execution_count": 1,
   "id": "79dfccea",
   "metadata": {},
   "outputs": [
    {
     "data": {
      "text/html": [
       "8"
      ],
      "text/latex": [
       "8"
      ],
      "text/markdown": [
       "8"
      ],
      "text/plain": [
       "[1] 8"
      ]
     },
     "metadata": {},
     "output_type": "display_data"
    }
   ],
   "source": [
    "5+3"
   ]
  },
  {
   "cell_type": "code",
   "execution_count": 2,
   "id": "bb68afb6",
   "metadata": {},
   "outputs": [
    {
     "data": {
      "text/html": [
       "2"
      ],
      "text/latex": [
       "2"
      ],
      "text/markdown": [
       "2"
      ],
      "text/plain": [
       "[1] 2"
      ]
     },
     "metadata": {},
     "output_type": "display_data"
    }
   ],
   "source": [
    "5-3"
   ]
  },
  {
   "cell_type": "code",
   "execution_count": 3,
   "id": "367bf54c",
   "metadata": {},
   "outputs": [
    {
     "data": {
      "text/html": [
       "15"
      ],
      "text/latex": [
       "15"
      ],
      "text/markdown": [
       "15"
      ],
      "text/plain": [
       "[1] 15"
      ]
     },
     "metadata": {},
     "output_type": "display_data"
    }
   ],
   "source": [
    "5*3"
   ]
  },
  {
   "cell_type": "code",
   "execution_count": 4,
   "id": "0ee50a7f",
   "metadata": {},
   "outputs": [
    {
     "data": {
      "text/html": [
       "1.66666666666667"
      ],
      "text/latex": [
       "1.66666666666667"
      ],
      "text/markdown": [
       "1.66666666666667"
      ],
      "text/plain": [
       "[1] 1.666667"
      ]
     },
     "metadata": {},
     "output_type": "display_data"
    }
   ],
   "source": [
    "5/3"
   ]
  },
  {
   "cell_type": "markdown",
   "id": "04917722",
   "metadata": {},
   "source": [
    "Ok, so R is a big calculator but it is also so much more than that. For example, we will see soon that R can do complicated statistical analysis on big datasets that you would never want to use a calculator for. It also allows you to do your analysis in a robust and re-usable way so you can automate things later. At the heart of this is saving your answers as you go along."
   ]
  },
  {
   "cell_type": "markdown",
   "id": "e29be6d0",
   "metadata": {},
   "source": [
    "### 3. Saving your answers - object assignment\n",
    "Lets make an assignment and then inspect the object you just created."
   ]
  },
  {
   "cell_type": "code",
   "execution_count": 5,
   "id": "ab0a75a3",
   "metadata": {},
   "outputs": [
    {
     "data": {
      "text/html": [
       "12"
      ],
      "text/latex": [
       "12"
      ],
      "text/markdown": [
       "12"
      ],
      "text/plain": [
       "[1] 12"
      ]
     },
     "metadata": {},
     "output_type": "display_data"
    }
   ],
   "source": [
    "x<-3*4\n",
    "x"
   ]
  },
  {
   "cell_type": "markdown",
   "id": "01164d19",
   "metadata": {},
   "source": [
    "All R statements where you create objects – “assignments” – have this form:"
   ]
  },
  {
   "cell_type": "markdown",
   "id": "ce581f5b",
   "metadata": {},
   "source": [
    "objectName <- value "
   ]
  },
  {
   "cell_type": "markdown",
   "id": "80bc42ac",
   "metadata": {},
   "source": [
    "and in my head I hear, e.g., “x gets 12”.\n",
    "\n",
    "You will make lots of assignments and the operator <- is a pain to type. Don’t be lazy and use =, although it would work, because it will just sow confusion later. Instead, utilize RStudio’s keyboard shortcut: Alt + - (the minus sign)."
   ]
  },
  {
   "cell_type": "markdown",
   "id": "f777b4a5",
   "metadata": {},
   "source": [
    ">**Cool short cut**: Learn the *Alt* and *minus* key combo shortcut for the assignment operator (i.e. the little arrow you use all the time in R).\n",
    "\n",
    ">RStudio offers many handy [keyboard shortcuts](https://support.rstudio.com/hc/en-us/articles/200711853-Keyboard-Shortcuts). Also, *Alt*+*Shift*+*K* brings up a keyboard shortcut reference card. Or you can use the top most menu bar options by clicking on Help > Keyboard Shortcuts Help to bring up the same screen. Simply click off to exit."
   ]
  },
  {
   "cell_type": "markdown",
   "id": "af601539",
   "metadata": {},
   "source": [
    "Notice that RStudio automagically surrounds <- with spaces, which demonstrates a useful code formatting practice. Code is miserable to read on a good day. Give your eyes a break and use spaces."
   ]
  },
  {
   "cell_type": "markdown",
   "id": "20c91f32",
   "metadata": {},
   "source": [
    "#### A note about object names\n",
    "Object names cannot start with a digit and cannot contain certain other characters such as a comma or a space. You will be wise to adopt a [convention for demarcating words](http://en.wikipedia.org/wiki/Snake_case) in names."
   ]
  },
  {
   "cell_type": "code",
   "execution_count": null,
   "id": "bc0fbbaa",
   "metadata": {},
   "outputs": [],
   "source": [
    "i_use_snake_case  \n",
    "other.people.use.periods  \n",
    "evenOthersUseCamelCase "
   ]
  },
  {
   "cell_type": "markdown",
   "id": "6e09e6c1",
   "metadata": {},
   "source": [
    "Make another assignment"
   ]
  },
  {
   "cell_type": "code",
   "execution_count": null,
   "id": "8ec27edf",
   "metadata": {},
   "outputs": [],
   "source": [
    "this_is_a_really_long_name <- 2.5  "
   ]
  },
  {
   "cell_type": "markdown",
   "id": "4828c320",
   "metadata": {},
   "source": [
    "To inspect this, try out RStudio’s completion facility: type the first few characters, press TAB, add characters until you disambiguate, then press return.\n",
    "\n",
    "Make another assignment"
   ]
  },
  {
   "cell_type": "code",
   "execution_count": null,
   "id": "a24b1226",
   "metadata": {},
   "outputs": [],
   "source": [
    "r_rocks <- 2 ^ 3  "
   ]
  },
  {
   "cell_type": "markdown",
   "id": "6daae434",
   "metadata": {},
   "source": [
    "Let’s try to inspect:"
   ]
  },
  {
   "cell_type": "code",
   "execution_count": null,
   "id": "ffc63572",
   "metadata": {},
   "outputs": [],
   "source": [
    "rrocks"
   ]
  },
  {
   "cell_type": "markdown",
   "id": "7ae94832",
   "metadata": {},
   "source": [
    "What happened? What about this one?"
   ]
  },
  {
   "cell_type": "code",
   "execution_count": null,
   "id": "b454f584",
   "metadata": {},
   "outputs": [],
   "source": [
    "R_rocks"
   ]
  },
  {
   "cell_type": "markdown",
   "id": "b74e6c77",
   "metadata": {},
   "source": [
    ">**Conclusion**: When we programm we enter into an implicit contract with the computer. The computer will do tedious computation for you. In return, you will be completely precise in your instructions. Typos matter. Case matters. **Therefore get better at typing!**"
   ]
  },
  {
   "cell_type": "markdown",
   "id": "d41112d2",
   "metadata": {},
   "source": [
    "### 4. Calling Functions\n",
    "R has a mind-blowing collection of built-in functions that are accessed like so:"
   ]
  },
  {
   "cell_type": "code",
   "execution_count": null,
   "id": "75f61643",
   "metadata": {},
   "outputs": [],
   "source": [
    "functionName(arg1 = val1, arg2 = val2, and so on)"
   ]
  },
  {
   "cell_type": "markdown",
   "id": "cce7556f",
   "metadata": {},
   "source": [
    "Let’s try using the *seq()* function, which makes regular sequences of numbers and, while we’re at it, demo more helpful features of RStudio.\n",
    "\n",
    "Type *se* and hit TAB. A pop up shows you possible completions. Specify *seq()* by typing more to disambiguate or using the up/down arrows to select.\n",
    "\n",
    "Notice the floating tool-tip-type help that pops up, reminding you of a function’s arguments. If you want even more help, press F1 as directed to get the full documentation in the help tab of the lower right pane. Now open the parentheses and notice the automatic addition of the closing parenthesis and the placement of cursor in the middle. Type the arguments *1, 10* and hit return. RStudio also exits the parenthetical expression for you. IDEs are helpful when starting out!"
   ]
  },
  {
   "cell_type": "code",
   "execution_count": null,
   "id": "1a003547",
   "metadata": {},
   "outputs": [],
   "source": [
    "seq(1,10) "
   ]
  },
  {
   "cell_type": "markdown",
   "id": "f9f3c6a2",
   "metadata": {},
   "source": [
    "You can always access the help/documentation of a particular function by using the *help(myFunction)* function, e.g. *help(seq)*.\n",
    "\n",
    "The previous *seq()* example above also demonstrates something about how R resolves function arguments. You can always specify in *name = value* form. But if you do not, R attempts to resolve by position. So above, it is assumed that we want a sequence *from = 1* that goes *to = 1*. Since we didn’t specify step size, the default value of *by* in the function definition is used, which ends up being 1 in this case. For functions I call often, I might use this resolve by position for the first argument or maybe the first two. After that, I always use *name = value*.\n",
    "\n",
    "What does the following command do?"
   ]
  },
  {
   "cell_type": "code",
   "execution_count": null,
   "id": "cb806014",
   "metadata": {},
   "outputs": [],
   "source": [
    "seq(1,10, by=2)"
   ]
  },
  {
   "cell_type": "markdown",
   "id": "5ec5cf3f",
   "metadata": {},
   "source": [
    "Could you of figured this out from the documentation accessed via the command *?seq* or *help(seq)*? One very useful part of a functions documentation is the **Examples** section (typically found at the very end of the documentation entry).\n",
    "\n",
    "You can copy and paste these into your session or execute them all in one go with the *examples()* function, e.g."
   ]
  },
  {
   "cell_type": "code",
   "execution_count": null,
   "id": "edca25db",
   "metadata": {},
   "outputs": [],
   "source": [
    "example(seq)"
   ]
  },
  {
   "cell_type": "markdown",
   "id": "93ce96d4",
   "metadata": {},
   "source": [
    "Not all functions have (or require) arguments, e.g.:"
   ]
  },
  {
   "cell_type": "code",
   "execution_count": null,
   "id": "329d0f5d",
   "metadata": {},
   "outputs": [],
   "source": [
    "date()"
   ]
  },
  {
   "cell_type": "markdown",
   "id": "61e5e6b3",
   "metadata": {},
   "source": [
    "### 5. Getting help in R\n",
    "As would be expected from a sophisticated scientific and statistical computing language, R has oodles of functions—far more than any reasonable human can expect to learn and remember. Consequently, you’ll need to master two of the most practical R skills:\n",
    "\n",
    "* Knowing how to look up a function’s documentation to recall its arguments and how it works.\n",
    "\n",
    "* Being able to discover new useful functions.\n",
    "\n",
    "Each of R’s functions (and other objects such as constants like pi, classes, and packages) has integrated documentation accessible within R. R’s documentation includes descriptions and details about the function, all arguments of a function, and useful usage examples. You access R’s built-in documentation with the *help()* function or its syntactic shortcut, *?*:"
   ]
  },
  {
   "cell_type": "code",
   "execution_count": null,
   "id": "882dde61",
   "metadata": {},
   "outputs": [],
   "source": [
    "help(log)\n",
    "?log"
   ]
  },
  {
   "cell_type": "markdown",
   "id": "edfa5572",
   "metadata": {},
   "source": [
    "In RStudio, this opens a special help window containing log()’s documentation. In terminal R, this documentation is handled by your default pager (probably the program less). Operators such as + and ^ need to be quoted (e.g., help(‘+’)).\n",
    "\n",
    "R’s *help()* function is useful when you already know the name of the function you need documentation for. Unfortunately, we often only have a fuzzier idea of what we need help with (e.g., what was the function in R that calculates cross tabulate vectors?). For tasks like this, we can search R’s help system with the function *help.search()*, or its shortcut *??*:"
   ]
  },
  {
   "cell_type": "code",
   "execution_count": null,
   "id": "7cf7b310",
   "metadata": {},
   "outputs": [],
   "source": [
    "help.search(\"cross tabulate\")\n",
    "??\"cross tabulate\""
   ]
  },
  {
   "cell_type": "markdown",
   "id": "c2ccb747",
   "metadata": {},
   "source": [
    "In this case, *help.search()* would help you find the function *table()*, which is useful in creating counts and cross tabulations from vectors.\n",
    "\n",
    "Also, R has the neat feature that all examples in an R help file can be executed with the function *example()*. For example:"
   ]
  },
  {
   "cell_type": "code",
   "execution_count": null,
   "id": "95a3c7d9",
   "metadata": {},
   "outputs": [],
   "source": [
    "example(log)"
   ]
  },
  {
   "cell_type": "code",
   "execution_count": null,
   "id": "8634e3a8",
   "metadata": {},
   "outputs": [],
   "source": [
    "## \n",
    "## log> log(exp(3))\n",
    "## [1] 3\n",
    "## \n",
    "## log> log10(1e7) # = 7\n",
    "## [1] 7\n",
    "## \n",
    "## log> x <- 10^-(1+2*1:9)\n",
    "## \n",
    "## log> cbind(x, log(1+x), log1p(x), exp(x)-1, expm1(x))\n",
    "##           x                                                    \n",
    "##  [1,] 1e-03 9.995003e-04 9.995003e-04 1.000500e-03 1.000500e-03\n",
    "##  [2,] 1e-05 9.999950e-06 9.999950e-06 1.000005e-05 1.000005e-05\n",
    "##  [3,] 1e-07 1.000000e-07 1.000000e-07 1.000000e-07 1.000000e-07\n",
    "##  [4,] 1e-09 1.000000e-09 1.000000e-09 1.000000e-09 1.000000e-09\n",
    "##  [5,] 1e-11 1.000000e-11 1.000000e-11 1.000000e-11 1.000000e-11\n",
    "##  [6,] 1e-13 9.992007e-14 1.000000e-13 9.992007e-14 1.000000e-13\n",
    "##  [7,] 1e-15 1.110223e-15 1.000000e-15 1.110223e-15 1.000000e-15\n",
    "##  [8,] 1e-17 0.000000e+00 1.000000e-17 0.000000e+00 1.000000e-17\n",
    "##  [9,] 1e-19 0.000000e+00 1.000000e-19 0.000000e+00 1.000000e-19"
   ]
  },
  {
   "cell_type": "markdown",
   "id": "5c99269c",
   "metadata": {},
   "source": [
    "R also has functions for listing all functions in a package (e.g., *library(help=\"base\"*)) and finding functions by name (e.g., *apropos(norm)*), which are often useful in remembering a function’s name.\n",
    "\n",
    "Later today we will cover a special form of package documentation called **vignettes**. These are basically short task oriented introductions and tutorials for a particular set of related functions.\n",
    "\n",
    ">**Conclusion**: R has built in help accessible with the question mark or *help()* function. However, it is heavy on nerd-speak and takes some getting used to. Remember Google (and the resulting StackOverflow posts) are your friends. Google is often the quickest way to get the help you need before you are full on nerd-speak fluent."
   ]
  },
  {
   "cell_type": "markdown",
   "id": "e1d43733",
   "metadata": {},
   "source": [
    "### 6. Vectors, Vectorization, and Indexing\n",
    "Arguably the most important feature of the R language is its vectors. A vector is a container of contiguous data. Unlike most languages, R does not have a type for a single value (known as a scalar) such as 3.1 or “AGCTACGACT.” Rather, these values are stored in a vector of length 1. We can verify that values like 3.1 are vectors of length 1 by calling the function length() (which returns the length of a vector) on them:"
   ]
  },
  {
   "cell_type": "code",
   "execution_count": null,
   "id": "69e3ecad",
   "metadata": {},
   "outputs": [],
   "source": [
    "length(3.1) "
   ]
  },
  {
   "cell_type": "markdown",
   "id": "ea3e7bd0",
   "metadata": {},
   "source": [
    "To create longer vectors, we combine values with the function c():"
   ]
  },
  {
   "cell_type": "code",
   "execution_count": null,
   "id": "38aaac02",
   "metadata": {},
   "outputs": [],
   "source": [
    "x <- c(56, 95.3, 0.4)\n",
    "x"
   ]
  },
  {
   "cell_type": "code",
   "execution_count": null,
   "id": "156373f2",
   "metadata": {},
   "outputs": [],
   "source": [
    "y <- c(3.2, 1.1, 0.2)\n",
    "y"
   ]
  },
  {
   "cell_type": "markdown",
   "id": "51122934",
   "metadata": {},
   "source": [
    "#### Vectorization\n",
    "R’s vectors are the basis of one of R’s most important features: **vectorization**. Vectorization allows us to loop over vectors elementwise, without the need to write an explicit loop. For example, R’s arithmetic operators are all vectorized:"
   ]
  },
  {
   "cell_type": "code",
   "execution_count": null,
   "id": "ec7d5e59",
   "metadata": {},
   "outputs": [],
   "source": [
    "x+y"
   ]
  },
  {
   "cell_type": "code",
   "execution_count": 8,
   "id": "5be0475d",
   "metadata": {},
   "outputs": [
    {
     "ename": "ERROR",
     "evalue": "Error in eval(expr, envir, enclos): object 'y' not found\n",
     "output_type": "error",
     "traceback": [
      "Error in eval(expr, envir, enclos): object 'y' not found\nTraceback:\n"
     ]
    }
   ],
   "source": [
    "x-y"
   ]
  },
  {
   "cell_type": "code",
   "execution_count": null,
   "id": "7604cb33",
   "metadata": {},
   "outputs": [],
   "source": [
    "x/y"
   ]
  },
  {
   "cell_type": "markdown",
   "id": "296b69bb",
   "metadata": {},
   "source": [
    "In addition to operators like + and *, many of R’s math functions (e.g., sqrt(), round(), log(), etc.) are all vectorized:"
   ]
  },
  {
   "cell_type": "code",
   "execution_count": null,
   "id": "88a68afe",
   "metadata": {},
   "outputs": [],
   "source": [
    "sqrt(x)"
   ]
  },
  {
   "cell_type": "code",
   "execution_count": null,
   "id": "0fdab102",
   "metadata": {},
   "outputs": [],
   "source": [
    "round(sqrt(x), 3)"
   ]
  },
  {
   "cell_type": "code",
   "execution_count": null,
   "id": "2e8489fe",
   "metadata": {},
   "outputs": [],
   "source": [
    "log(x)/2 + 1 # note how we can combined vectorized operations"
   ]
  },
  {
   "cell_type": "markdown",
   "id": "73ecc868",
   "metadata": {},
   "source": [
    "This vectorized approach is not only more clear and readable, it’s also often computationally faster.\n",
    "\n",
    ">Concludion: Unlike other languages, R allows us to completely forgo explicitly looping over vectors with a for loop. Later on, we’ll see other methods used for more explicit looping."
   ]
  },
  {
   "cell_type": "markdown",
   "id": "05cb88e0",
   "metadata": {},
   "source": [
    "#### Vector Indexing (or getting to your data subset)\n",
    "We can access specific elements of a vector through indexing. An index is an integer that specifies which element in the vector to retrieve. We can use indexing to get or set values to certain elements from a vector:"
   ]
  },
  {
   "cell_type": "code",
   "execution_count": null,
   "id": "764f6c50",
   "metadata": {},
   "outputs": [],
   "source": [
    "x <- c(56, 95.3, 0.4)\n",
    "x[2]"
   ]
  },
  {
   "cell_type": "markdown",
   "id": "0030390f",
   "metadata": {},
   "source": [
    "R’s vectors are 1-indexed, meaning that the index 1 corresponds to the first ele‐ ment in a list (in contrast to 0-indexed languages like Python). Here, the value 95.3 is the 2nd item, and is accessed with x[2]."
   ]
  },
  {
   "cell_type": "code",
   "execution_count": null,
   "id": "61762819",
   "metadata": {},
   "outputs": [],
   "source": [
    "x[1]"
   ]
  },
  {
   "cell_type": "code",
   "execution_count": null,
   "id": "4e8390bc",
   "metadata": {},
   "outputs": [],
   "source": [
    "x[4]"
   ]
  },
  {
   "cell_type": "markdown",
   "id": "331aacd3",
   "metadata": {},
   "source": [
    "Trying to access an element that doesn’t exist in the vector leads R to return NA, the “not available” missing value."
   ]
  },
  {
   "cell_type": "code",
   "execution_count": null,
   "id": "311e65c1",
   "metadata": {},
   "outputs": [],
   "source": [
    "x[3] <- 0.5\n",
    "x"
   ]
  },
  {
   "cell_type": "markdown",
   "id": "6de08803",
   "metadata": {},
   "source": [
    "We can change specific vector elements by combining indexing and assignment.\n",
    "\n",
    "Our next session will cover more on **vectors**, and the other major R data structures (**matrices**, **data.frames** and **lists**)."
   ]
  },
  {
   "cell_type": "markdown",
   "id": "4202573c",
   "metadata": {},
   "source": [
    "### 7. An IMPORTANT note about RStudio projects\n",
    "Keeping all the files associated with a particular piece of work organized together – input data, R scripts, analytical results, figures – is such a wise and common practice that RStudio has built-in support for this via its *projects*."
   ]
  },
  {
   "cell_type": "markdown",
   "id": "3402b922",
   "metadata": {},
   "source": [
    "[Using Projects](https://support.rstudio.com/hc/en-us/articles/200526207-Using-Projects)\n",
    "\n",
    ">**Important**: We will be using **RStudio projects** throughout this course to keep ourselves organized and relatively sane. Take the time to learn the basics of projects now!\n",
    "\n",
    "Let’s make one to use for the rest of this class.\n",
    "\n",
    "Do this: **File** > **New Project …**. then click through the options **New Directory** > **New Project**. The directory name you choose here will be the project name. Call it whatever you want (or follow me for convenience *Desktop/bggn213/week03*). Note here I have an existing folder on my Desktop called bggn213 and I am creating a new Rstudio *project* called **week03**. This will be a new folder were all my work will be stored (see image below)."
   ]
  },
  {
   "cell_type": "markdown",
   "id": "fb544409",
   "metadata": {},
   "source": []
  },
  {
   "cell_type": "markdown",
   "id": "049a748c",
   "metadata": {},
   "source": [
    ">**N.B.** Note that I have no spaces in my file or folder names. This will be important later when we enter the UNIX world where spaces mean something.\n",
    "\n",
    ">For now just don’t put spaces in any of your file or folder names as it will cause you trouble later. Remember, *“a space in a file name is like a space in your sole”*.\n",
    "\n",
    ">If you use spaces in your project names we can’t be friends. Seriously!"
   ]
  },
  {
   "cell_type": "markdown",
   "id": "92606767",
   "metadata": {},
   "source": [
    "### 8. Miscellaneous points\n",
    "It is traditional to save R scripts with a *.R* or *.r* suffix. Follow this convention unless you have some extraordinary reason not to - like insanity.\n",
    "\n",
    "Comments start with one or more *#* symbols. Use them. RStudio helps you (de)comment selected lines with Ctrl+Shift+C (windows and linux) or Command+Shift+C (mac).\n",
    "\n",
    "Clean out the workspace, ie pretend like you’ve just revisited this project after a long absence. The broom icon or *rm(list = ls())*. Good idea to do this, restart R (available from the Session menu), re-run your analysis to truly check that the code you’re saving is complete and correct (or at least rule out obvious problems!)."
   ]
  },
  {
   "cell_type": "markdown",
   "id": "611c3927",
   "metadata": {},
   "source": [
    "This work-flow will serve you well in the future:\n",
    "\n",
    "* Create an RStudio project for an analytical project\n",
    "* Keep inputs there (we’ll soon talk about importing)\n",
    "* Keep scripts there; edit them, run them in bits or as a whole from there\n",
    "* Keep outputs there (like figures and PDF reports etc like we generate next day)\n",
    "\n",
    ">**Tip**: Avoid using the mouse for pieces of your analytical work-flow, such as loading a dataset or saving a figure. Terribly important for reproducibility and for making it possible to retrospectively determine how a numerical table or PDF was actually produced (searching on local disk on filename, among *.R* files, will lead to the relevant script)."
   ]
  },
  {
   "cell_type": "markdown",
   "id": "24487d1e",
   "metadata": {},
   "source": [
    "Many long-time users never save the workspace, never save *.RData* files (I’m one of them), never save or consult the history. Once/if you get to that point, there are options available in RStudio to disable the loading of .RData and permanently suppress the prompt on exit to save the workspace (go to Tools->Options->General).\n",
    "\n",
    "For the record, when loading data into R and/or writing outputs to file, you can always specify the absolute path and thereby insulate yourself from the current working directory. This is rarely necessary when using RStudio Projects properly\n",
    "\n",
    ">**Thanks for reading this far** - you are awesome and we are now fRiends!"
   ]
  },
  {
   "cell_type": "markdown",
   "id": "d7a8f3d1",
   "metadata": {},
   "source": [
    "### 9. Reproducibility and sessionInfo()\n",
    "Versions of R and any R packages installed change over time. This can lead to reproducibility headaches, as the results of your analyses may change with the changing version of R and R packages. Solving these issues is an area of ongoing development (see, for example, the packrat package). At the very least, you should always record the versions of R and any packages you use for an analysis. R actually makes this incredibly easy to do—just call the *sessionInfo()* function:"
   ]
  },
  {
   "cell_type": "code",
   "execution_count": null,
   "id": "b1872b8c",
   "metadata": {},
   "outputs": [],
   "source": [
    "sessionInfo()"
   ]
  },
  {
   "cell_type": "code",
   "execution_count": null,
   "id": "1c637022",
   "metadata": {},
   "outputs": [],
   "source": [
    "## R version 3.4.1 (2017-06-30))\n",
    "## Platform: x86_64-apple-darwin15.6.0 (64-bit)\n",
    "## Running under: macOS Sierra 10.12.6\n",
    "## \n",
    "## locale:\n",
    "## [1] en_US.UTF-8/en_US.UTF-8/en_US.UTF-8/C/en_US.UTF-8/en_US.UTF-8\n",
    "## \n",
    "## attached base packages:\n",
    "## [1] stats     graphics  grDevices utils     datasets  methods   base     \n",
    "## \n",
    "## loaded via a namespace (and not attached):\n",
    "##  [1] magrittr_1.5       formatR_1.2.1      tools_3.2.3       \n",
    "##  [4] htmltools_0.3.5    yaml_2.1.13        Rcpp_0.12.4       \n",
    "##  [7] stringi_1.0-1      rmarkdown_1.0.9002 knitr_1.13        \n",
    "## [10] stringr_1.0.0      digest_0.6.9       evaluate_0.9"
   ]
  }
 ],
 "metadata": {
  "kernelspec": {
   "display_name": "R",
   "language": "R",
   "name": "ir"
  },
  "language_info": {
   "codemirror_mode": "r",
   "file_extension": ".r",
   "mimetype": "text/x-r-source",
   "name": "R",
   "pygments_lexer": "r",
   "version": "3.6.1"
  }
 },
 "nbformat": 4,
 "nbformat_minor": 5
}

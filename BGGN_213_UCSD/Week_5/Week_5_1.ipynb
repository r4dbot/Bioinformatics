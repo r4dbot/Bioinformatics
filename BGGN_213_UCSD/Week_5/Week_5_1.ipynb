{
 "cells": [
  {
   "cell_type": "markdown",
   "id": "7c2689b5",
   "metadata": {},
   "source": [
    "#### Muhammad Rady Irawan\n",
    "\n",
    "* Bioinformatics compilaton https://github.com/r4dbot"
   ]
  },
  {
   "cell_type": "markdown",
   "id": "91d0e485",
   "metadata": {},
   "source": [
    "# BGGN213 UCSD \n",
    "## R Functions Lab - Week 5\n",
    "Dr. Barry Grant\n",
    "<br>http://thegrantlab.org\n",
    "<br>course source: https://bioboot.github.io/bggn213_W21/ "
   ]
  },
  {
   "cell_type": "markdown",
   "id": "0884099f",
   "metadata": {},
   "source": [
    "### Background\n",
    "In this session you will work through the process of developing your own function for calculating average\n",
    "grades for fictional students in a fictional class.\n",
    "\n",
    "The process will involve starting slowly with small defined input vectors (where you know what the answer\n",
    "should be). Then building up to work with more complex input vectors (with multiple missing elements).\n",
    "\n",
    "Finally, you will turn your code into a function and apply it to a realistic [gradebook available online](https://tinyurl.com/gradeinput) to\n",
    "answer a set of common grading questions. Useful hints are provided in the next section."
   ]
  },
  {
   "cell_type": "markdown",
   "id": "169505be",
   "metadata": {},
   "source": [
    "### Hints\n",
    "Once you have a working function for vector inputs (such as the *student1*, *student2*, and *student3* vectors\n",
    "below) you can use the **apply()** function to work with data frame inputs such as those obtained from\n",
    "**read.csv()**.\n",
    "Additional functions you will want to explore include **mean()**, **is.na()**, **which.min()**, **which.max()**, **sum()**,\n",
    "and **cor()**. Remember, you can ask for help on any function by typing a question mark before the function\n",
    "name e.g. ?**sum**.\n",
    "We will walk through many of these steps together in this weeks live screen-cast. However, attempting on\n",
    "your own before then is highly recommended and will be a big help for following the screen-cast."
   ]
  },
  {
   "cell_type": "code",
   "execution_count": 1,
   "id": "1f843019",
   "metadata": {},
   "outputs": [],
   "source": [
    "#Example input vectors to start with\n",
    "\n",
    "student1 <- c(100, 100, 100, 100, 100, 100, 100, 90)\n",
    "student2 <- c(100, NA, 90, 90, 90, 90, 97, 80)\n",
    "student3 <- c(90, NA, NA, NA, NA, NA, NA, NA)"
   ]
  },
  {
   "cell_type": "markdown",
   "id": "10ce826e",
   "metadata": {},
   "source": [
    "### Your Tasks\n",
    "* Create a new *RStudio project* for this weeks session. Note that you should save this inside the folder where you have been organizing your work to date for this class.\n",
    "* Create a new *Rmarkdown document* for storing your work (i.e. notes and code for this session). You will knit this to a lab report for later submission on gradescope.\n",
    "* Answer the following five questions. Note that **Q4** is optional but **Q5** (gradescope submission) is not."
   ]
  },
  {
   "cell_type": "markdown",
   "id": "e6138ace",
   "metadata": {},
   "source": [
    "<font color =red><b>Q1.</b> Write a function grade() to determine an overall grade from a vector of student homework\n",
    "assignment scores dropping the lowest single score. If a student misses a homework (i.e. has an NA value) this can be used as a score to be potentially dropped. Your final function should be adquately explained with code comments and be able to work on an example class gradebook such as this one in CSV format: \"<a href =\"https://tinyurl.com/gradeinput\">https://tinyurl.com/gradeinput</a>\" [<b>3pts</b>]</font>"
   ]
  },
  {
   "cell_type": "markdown",
   "id": "e2357323",
   "metadata": {},
   "source": []
  },
  {
   "cell_type": "markdown",
   "id": "3edc8b59",
   "metadata": {},
   "source": [
    "<font color =red><b>Q2.</b> Using your grade() function and the supplied <a href = \"https://tinyurl.com/gradeinput\">gradebook</a>, Who is the top scoring student\n",
    "overall in the gradebook? [<b>3pts</b>]</font>"
   ]
  },
  {
   "cell_type": "markdown",
   "id": "06a17d5e",
   "metadata": {},
   "source": []
  },
  {
   "cell_type": "markdown",
   "id": "39c0c7c3",
   "metadata": {},
   "source": [
    "<font color =red><b>Q3.</b> From your analysis of the gradebook, which homework was toughest on students (i.e. obtained\n",
    "    the lowest scores overall? [<b>2pts</b>]</font>"
   ]
  },
  {
   "cell_type": "markdown",
   "id": "7cc22f99",
   "metadata": {},
   "source": []
  },
  {
   "cell_type": "markdown",
   "id": "022eae41",
   "metadata": {},
   "source": [
    "<font color = red><b>Q4.</b> Optional Extension: From your analysis of the gradebook, which homework was most\n",
    "    predictive of overall score (i.e. highest correlation with average grade score)? [<b>1pt</b>]</font>"
   ]
  },
  {
   "cell_type": "markdown",
   "id": "b07cad86",
   "metadata": {},
   "source": []
  },
  {
   "cell_type": "markdown",
   "id": "51d94e14",
   "metadata": {},
   "source": [
    "<font color = red><b>Q5.</b> Make sure you save your Rmarkdown document and can click the “<b>Knit</b>” button to generate\n",
    "    a PDF foramt report without errors. Finally, submit your PDF to gradescope. [<b>1pt</b>]\n",
    "</font>\n",
    "   \n",
    "    "
   ]
  },
  {
   "cell_type": "markdown",
   "id": "432639b1",
   "metadata": {},
   "source": []
  }
 ],
 "metadata": {
  "kernelspec": {
   "display_name": "R",
   "language": "R",
   "name": "ir"
  },
  "language_info": {
   "codemirror_mode": "r",
   "file_extension": ".r",
   "mimetype": "text/x-r-source",
   "name": "R",
   "pygments_lexer": "r",
   "version": "3.6.1"
  }
 },
 "nbformat": 4,
 "nbformat_minor": 5
}

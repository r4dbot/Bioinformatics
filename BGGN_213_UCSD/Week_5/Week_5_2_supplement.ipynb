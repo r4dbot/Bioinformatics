{
 "cells": [
  {
   "cell_type": "markdown",
   "id": "cdbd9d2a",
   "metadata": {},
   "source": [
    "#### Muhammad Rady Irawan\n",
    "\n",
    "* Bioinformatics compilaton https://github.com/r4dbot"
   ]
  },
  {
   "cell_type": "markdown",
   "id": "30c9632b",
   "metadata": {},
   "source": [
    "# BGGN213 UCSD \n",
    "## R Functions Lab_suplement - Week 5\n",
    "Dr. Barry Grant\n",
    "<br>http://thegrantlab.org\n",
    "<br>course source: https://bioboot.github.io/bggn213_W21/ "
   ]
  },
  {
   "cell_type": "markdown",
   "id": "393c9872",
   "metadata": {},
   "source": [
    "### Overview\n",
    "In R programming, you use functions to incorporate sets of commands that you want to use repeatedly or that, because of their complexity, are better self-contained in a sub program and called when needed. To begin with we can think of an R function as basically a named piece of code written to carry out a specified task or set of tasks that can be easily used again and again. \n",
    "\n",
    "In R, there are many hundreds of built-in functions like **summary()**, **dist()**, **mean()** etc. but you can also write your own functions. You just use the same language you always use in R, in the same file as the rest of your code if you like (or in a separate file that you can **source()** when needed). You can write a quick, one-line function or long elaborate functions.\n",
    "\n",
    "As you become more proficient in R you will start to write and use your own functions all the time to make your code cleaner and less repetitive. Personally, I believe the best way to learn more about the inner workings of R functions (and hence how R itself works), is to write your own ones and learn from others by looking at the code of their functions! So lets get started. \n",
    "\n",
    "First we will take some working code snippets and improve them by encapsulating their main activities in functions. This will mirror what you will typically do in your own work when you find yourself writing repetitive code that does essentially the same thing 3 or more times. Subsequent sections provide further details and background on writing basic functions, tips and techniques for troubleshooting and debugging your functions and finally a set of generally good practices to follow when writing your own functions."
   ]
  },
  {
   "cell_type": "markdown",
   "id": "9cb37a26",
   "metadata": {},
   "source": [
    "### Section 1\n",
    "**A.** Improve this regular R code by abstracting the main activities in your own new function. Note, we will go through this example together in the formal lecture. The main steps should entail running through the code to see if it works, simplifying to a core working code snippet, reducing any calculation duplication, and finally transferring your new streamlined code into a more useful function for you "
   ]
  },
  {
   "cell_type": "code",
   "execution_count": null,
   "id": "36e7afff",
   "metadata": {},
   "outputs": [],
   "source": [
    "# (A. Can you improve this analysis code?\n",
    "df <- data.frame(a=1:10, b=seq(200,400,length=10),c=11:20,d=NA) \n",
    "df$a <- (df$a - min(df$a)) / (max(df$a) - min(df$a))\n",
    "df$b <- (df$b - min(df$a)) / (max(df$b) - min(df$b))\n",
    "df$c <- (df$c - min(df$c)) / (max(df$c) - min(df$c))\n",
    "df$d <- (df$d - min(df$d)) / (max(df$a) - min(df$d)) "
   ]
  },
  {
   "cell_type": "markdown",
   "id": "9198e337",
   "metadata": {},
   "source": [
    "**B.** Next improve the below example code for the analysis of protein drug interactions by \n",
    "abstracting the main activities in your own new function. Then answer questions 1 to 6 \n",
    "below. It is recommended that you start a new *Project* in RStudio in a new directory and \n",
    "then install the bio3d package noted in the R code below (N.B. you can use the \n",
    "command <font color = blue>install.packages(\"bio3d\")</font> or the RStudio interface to do this). \n",
    "\n",
    "Then run through the code to see if it works, fix any copy/paste errors before simplifying \n",
    "to a core working code snippet, reducing any calculation duplication, and finally \n",
    "transferring it into a more useful function for you."
   ]
  },
  {
   "cell_type": "code",
   "execution_count": null,
   "id": "ca781bfd",
   "metadata": {},
   "outputs": [],
   "source": []
  },
  {
   "cell_type": "markdown",
   "id": "25ca3256",
   "metadata": {},
   "source": [
    "<font color =red><b>Q1.</b> What type of object is returned from the read.pdb() function? </font>"
   ]
  },
  {
   "cell_type": "markdown",
   "id": "365655c3",
   "metadata": {},
   "source": [
    "<font color =red><b>Q2.</b> What does the trim.pdb() function do?</font>"
   ]
  },
  {
   "cell_type": "markdown",
   "id": "99edf646",
   "metadata": {},
   "source": [
    "<font color =red><b>Q3.</b> What input parameter would turn off the marginal black and grey rectangles in the \n",
    "plots and what do they represent in this case?</font>"
   ]
  },
  {
   "cell_type": "markdown",
   "id": "ad4cb276",
   "metadata": {},
   "source": [
    "<font color =red><b>Q4.</b> What would be a better plot to compare across the different proteins? </font>"
   ]
  },
  {
   "cell_type": "markdown",
   "id": "1a27cb1a",
   "metadata": {},
   "source": [
    "<font color =red><b>Q5.</b> Which proteins are more similar to each other in their B-factor trends. How could \n",
    "you quantify this?</font> <font color =green>HINT: try the rbind(), dist() and hclust() functions together with a resulting dendrogram plot. Look up the documentation to see what each of these functions does</font>"
   ]
  },
  {
   "cell_type": "code",
   "execution_count": null,
   "id": "02601d5b",
   "metadata": {},
   "outputs": [],
   "source": [
    "hc <- hclust( dist( rbind(s1.b, s2.b, s3.b) ) )\n",
    "plot(hc)"
   ]
  },
  {
   "cell_type": "markdown",
   "id": "f9700200",
   "metadata": {},
   "source": [
    "##### N.B. <u>Homework with scoring rubric</u>."
   ]
  },
  {
   "cell_type": "markdown",
   "id": "9ef92faf",
   "metadata": {},
   "source": [
    "<font color =red><b>Q6.</b> How would you generalize the original code above to work with any set of input \n",
    "protein structures? </font>"
   ]
  },
  {
   "cell_type": "markdown",
   "id": "96c6a647",
   "metadata": {},
   "source": [
    "Write your own function starting from the code above that analyzes protein drug \n",
    "interactions by reading in any protein PDB data and outputs a plot for the specified \n",
    "protein.\n",
    "\n",
    "Create a new RMarkdown document with your function code AND example output. We \n",
    "also suggest you include narrative text that address the rubric items below. Generate a \n",
    "PDF report and <font color =blue><b>submit this PDF to our GradeScope</b></font> site."
   ]
  },
  {
   "cell_type": "markdown",
   "id": "c2124a7a",
   "metadata": {},
   "source": [
    "#### scoring rubric: \n",
    "Total 10 points assigned as follows:<br>\n",
    "*Documentation:*<br>\n",
    "1 pt - comments on what are the inputs to the function.\n",
    "\n",
    "1 pt - what the function does and how to use it.\n",
    "\n",
    "1 pt - what is the output of the function.\n",
    "\n",
    "*Code:*<br>\n",
    "2 pt - function behaves as desired, producing the correct output and follows assignment specifications.\n",
    "\n",
    "2 pt - the code is efficient meaning it uses best practices such as limiting calculation duplication.\n",
    "\n",
    "2 pt - code is readable, meaning best practices are used including proper indentation and whitespace used, relevant variable names, and organized in a logical manner.\n",
    "\n",
    "1 pt - function code and call executes and is working properly."
   ]
  },
  {
   "cell_type": "markdown",
   "id": "61d399b2",
   "metadata": {},
   "source": [
    "### Section 2 Writing and calling a function\n",
    "A function needs to have a name, probably at least one argument (although it doesn’t have to), and a body of code that does something. At the end it usually should (although doesn’t have to) return an object out of the function. The important idea behind functions is that objects that are created within the function are local to the environment of the function – they don’t exist outside of the function. But you can “return” the value of the object from the function, meaning pass the value of it into the global environment. I’ll go over this in more detail.\n",
    "\n",
    "Functions need to have curly braces around the statements, like so:"
   ]
  },
  {
   "cell_type": "code",
   "execution_count": null,
   "id": "85128a70",
   "metadata": {},
   "outputs": [],
   "source": [
    "name.of.function <- function(argument1, argument2) {\n",
    " statements\n",
    " return(something)\n",
    "}"
   ]
  },
  {
   "cell_type": "markdown",
   "id": "35946487",
   "metadata": {},
   "source": [
    "The argument can be any type of object (like a scalar, a matrix, a dataframe, a vector, a logical, etc), and it’s not necessary to define what it is in any way. \n",
    "\n",
    "As a very simple example, we can write a function that squares an incoming argument. The function below takes the argument x and multiplies it by itself. It saves this value into the object called square, and then it returns the value of the object square."
   ]
  },
  {
   "cell_type": "code",
   "execution_count": null,
   "id": "5bd6127d",
   "metadata": {},
   "outputs": [],
   "source": [
    "square.it <- function(x) {\n",
    " square <- x * x\n",
    " return(square)}"
   ]
  },
  {
   "cell_type": "markdown",
   "id": "0ad76352",
   "metadata": {},
   "source": [
    "I can now call the function by passing in a scalar or a vector or matrix as its argument, because all of those objects will square nicely. But it won’t work if I input a character as its argument because although it will pass “hi” into the function, R can’t multiply “hi”."
   ]
  },
  {
   "cell_type": "code",
   "execution_count": null,
   "id": "fe83bdbf",
   "metadata": {},
   "outputs": [],
   "source": [
    "# square a number\n",
    "square.it(5)\n",
    "## [1] 25\n",
    "# square a vector\n",
    "square.it(c(1, 4, 2))\n",
    "## [1] 1 16 4\n",
    "# square a character (not going to happen)\n",
    "square.it(\"hi\")\n",
    "## Error: non-numeric argument to binary operator"
   ]
  },
  {
   "cell_type": "markdown",
   "id": "f0426feb",
   "metadata": {},
   "source": [
    "I can also pass in an object that I already have saved. For example, here I have a matrix called matrix1, so I pass that into the **square.it() function**. R takes this matrix1 into the function as x. That is, in the local function environment it is now called x, where it is squared, and returned."
   ]
  },
  {
   "cell_type": "code",
   "execution_count": null,
   "id": "afc1020f",
   "metadata": {},
   "outputs": [],
   "source": [
    "matrix1 <- cbind(c(3, 10), c(4, 5))\n",
    "square.it(matrix1)\n",
    "## [,1] [,2]\n",
    "## [1,] 9 16\n",
    "## [2,] 100 25"
   ]
  },
  {
   "cell_type": "markdown",
   "id": "ad6ca556",
   "metadata": {},
   "source": [
    "#### Local vs global environment\n",
    "Now, it’s not necessarily the case that you must use **return()** at the end of your function. The reason you return an object is if you’ve saved the value of your statements into an object inside the function – in this case, the objects in the function are in a local environment and won’t appear in your global environment. See how it works in the following two examples:"
   ]
  },
  {
   "cell_type": "code",
   "execution_count": null,
   "id": "c6cec3bb",
   "metadata": {},
   "outputs": [],
   "source": [
    "fun1 <- function(x) {\n",
    " 3 * x - 1\n",
    "}\n",
    "fun1(5)\n",
    "## [1] 14\n",
    "fun2 <- function(x) {\n",
    " y <- 3 * x - 1\n",
    "}\n",
    "fun2(5)"
   ]
  },
  {
   "cell_type": "markdown",
   "id": "b2ee3ba5",
   "metadata": {},
   "source": [
    "In the first function, I just evaluate the statement **3*x-1** without saving it anywhere inside the function. So when I run fun1(5), the result comes popping out of the function. However, when I call fun2(5), nothing happens. That’s because the object y that I saved my result into doesn’t exist outside the function and I haven’t used **return(y)** to pass the value of y outside the function. When I try to print y, it doesn’t exist because it was created in the local environment of the function."
   ]
  },
  {
   "cell_type": "code",
   "execution_count": null,
   "id": "4ce7599e",
   "metadata": {},
   "outputs": [],
   "source": [
    "print(y)\n",
    "## Error: object 'y' not found"
   ]
  },
  {
   "cell_type": "markdown",
   "id": "cab99fa6",
   "metadata": {},
   "source": [
    "I can return the *value* of y using the **return(y)** at the end of the function fun2, but I can’t \n",
    "return the object itself; it’s stuck inside the function."
   ]
  },
  {
   "cell_type": "markdown",
   "id": "1c46e017",
   "metadata": {},
   "source": [
    "### Section 3: Getting more complex\n",
    "Obviously writing a whole function to square something when you could just use the ^ operator is silly. But you can do much more complicated things in functions, once you get the hang of them. \n",
    "\n",
    "#### Calling other functions and passing multiple arguments\n",
    "First, you can pass multiple arguments into a function and you can call other functions within your function. Here’s an example. I’m passing in 3 arguments which I want to be a matrix, a vector, and a scalar. In the function body, I first call my previous \n",
    "function **square.it()** and use it to square the scalar. Then I multiply the matrix by the \n",
    "vector. Then I multiply those two results together and return the final object."
   ]
  },
  {
   "cell_type": "code",
   "execution_count": null,
   "id": "8bd49249",
   "metadata": {},
   "outputs": [],
   "source": [
    "my.fun <- function(X.matrix, y.vec, z.scalar) {\n",
    " # use my previous function square.it() and save result\n",
    " sq.scalar <- square.it(z.scalar)\n",
    " # multiply the matrix by the vector using %*% operator\n",
    " mult <- X.matrix %*% y.vec\n",
    " # multiply the resulting objects together to get a final ans\n",
    " final <- mult * sq.scalar\n",
    " # return the result\n",
    " return(final)\n",
    "}"
   ]
  },
  {
   "cell_type": "markdown",
   "id": "05d43a57",
   "metadata": {},
   "source": [
    "When you have multiple arguments in a function that you call, R will just evaluate them in order of how you’ve written the function (the first argument will correspond to X.matrix, the second y.vec, and so on), but for clarity I would name the arguments in the function call. In this example below, I already have two saved objects, my.mat and my.vec that I pass through as the X.matrix and y.vec arguments, and then I just assign the z.scalar argument the number 9."
   ]
  },
  {
   "cell_type": "code",
   "execution_count": null,
   "id": "de073901",
   "metadata": {},
   "outputs": [],
   "source": [
    "# save a matrix and a vector object\n",
    "my.mat <- cbind(c(1, 3, 4), c(5, 4, 3))\n",
    "my.vec <- c(4, 3)\n",
    "# pass my.mat and my.vec into the my.fun function\n",
    "my.fun(X.matrix = my.mat, y.vec = my.vec, z.scalar = 9)\n",
    "## [,1]\n",
    "## [1,] 1539\n",
    "## [2,] 1944\n",
    "## [3,] 2025\n",
    "# this is the same as\n",
    "my.fun(my.mat, my.vec, 9)\n",
    "## [,1]\n",
    "## [1,] 1539\n",
    "## [2,] 1944\n",
    "## [3,] 2025"
   ]
  },
  {
   "cell_type": "markdown",
   "id": "648e6bc5",
   "metadata": {},
   "source": [
    "#### Returning a list of objects\n",
    "Also, if you need to return multiple objects from a function, you can use list() to list them together.\n",
    "\n",
    "For example:"
   ]
  },
  {
   "cell_type": "code",
   "execution_count": null,
   "id": "b8f6df50",
   "metadata": {},
   "outputs": [],
   "source": [
    "another.fun <- function(sq.matrix, vector) {\n",
    " # transpose matrix and square the vector\n",
    " step1 <- t(sq.matrix)\n",
    " step2 <- vector * vector\n",
    " # save both results in a list and return\n",
    " final <- list(step1, step2)\n",
    " return(final)\n",
    "}\n",
    "# call the function and save result in object called outcome\n",
    "outcome <- another.fun(sq.matrix = cbind(c(1, 2), c(3, 4)), \n",
    "vector = c(2, 3))\n",
    "# print the outcome list\n",
    "print(outcome)\n",
    "## [[1]]\n",
    "## [,1] [,2]\n",
    "## [1,] 1 2\n",
    "## [2,] 3 4\n",
    "## \n",
    "## [[2]]\n",
    "## [1] 4 9"
   ]
  },
  {
   "cell_type": "markdown",
   "id": "4b5c4b60",
   "metadata": {},
   "source": [
    "Now to separate those objects for use in your further code, you can extract them using \n",
    "the [[ ]] operator:"
   ]
  },
  {
   "cell_type": "code",
   "execution_count": null,
   "id": "90432c73",
   "metadata": {},
   "outputs": [],
   "source": [
    "### extract first in list\n",
    "outcome[[1]]\n",
    "## [,1] [,2]\n",
    "## [1,] 1 2\n",
    "## [2,] 3 4\n",
    "## extract second in list\n",
    "outcome[[2]]\n",
    "## [1] 4 9"
   ]
  },
  {
   "cell_type": "markdown",
   "id": "fae94ab4",
   "metadata": {},
   "source": [
    "### Section 4: Tricks for troubleshooting and debugging\n",
    "When you execute multiple statements in a function, sometimes things go wrong. What’s nice about functions is that R evalutes every statement until it reaches an error. So in the last function, the dimensions of the objects really matter. You can’t multiply matrices of incomptabile dimensions. Like this:"
   ]
  },
  {
   "cell_type": "code",
   "execution_count": null,
   "id": "da596b23",
   "metadata": {},
   "outputs": [],
   "source": [
    "my.fun(X.matrix = my.mat, y.vec = c(2, 3, 6, 4, 1), z.scalar = \n",
    "9)\n",
    "## Error: non-conformable arguments"
   ]
  },
  {
   "cell_type": "markdown",
   "id": "2ef57d52",
   "metadata": {},
   "source": [
    "#### Using the Debug() function\n",
    "When you have an error, one thing you can do is use R’s built-in debugger **debug()** to find at what point the error occurs. You indicate which function you want to debug, then run your statement calling the function, and R shows you at what point the function stops because of errors:"
   ]
  },
  {
   "cell_type": "code",
   "execution_count": null,
   "id": "1d49402a",
   "metadata": {},
   "outputs": [],
   "source": [
    "debug(my.fun)\n",
    "my.fun(X.matrix = my.mat, y.vec = c(2, 3, 6, 4, 1), z.scalar = \n",
    "9)\n",
    "## debugging in: my.fun(X.matrix = my.mat, y.vec = c(2, 3, 6, 4, \n",
    "1), z.scalar = 9)\n",
    "## debug at #1: {\n",
    "## sq.scalar <- square.it(z.scalar)\n",
    "## mult <- X.matrix %*% y.vec\n",
    "## final <- mult * sq.scalar\n",
    "## return(final)\n",
    "## }\n",
    "## debug at #4: sq.scalar <- square.it(z.scalar)\n",
    "## debug at #7: mult <- X.matrix %*% y.vec\n",
    "## Error: non-conformable arguments"
   ]
  },
  {
   "cell_type": "markdown",
   "id": "0064ee65",
   "metadata": {},
   "source": [
    "We see that the first line calling the **square.it()** function was fine, but then an error occurred in the line defining mult. This debugging is useful especially if you had many more statements in your function that multiplied matrices and you weren’t sure which one was causing the issues. So now we know the problem is that X.matrix and y.vec won’t multiply. But we still need to know why they won’t multiply."
   ]
  },
  {
   "cell_type": "markdown",
   "id": "e6c68490",
   "metadata": {},
   "source": [
    "#### Printing out what’s happening (sanity checks)\n",
    "At this point, a good way to troubleshoot this is to print out the dimensions or lengths of the objects or even the objects themselves that are going into the statement causing errors. The great part about functions is that they evaluate all the way until there’s an error. So you can see what is happening inside your function before the error.\n",
    "\n",
    "If the object is too long, you can **print(head(object))**. This helps to see if you’re doing what you think you’re doing. Note that you have to use the function **print()** to actually print out anything from within a function."
   ]
  },
  {
   "cell_type": "code",
   "execution_count": null,
   "id": "e97bcbf7",
   "metadata": {},
   "outputs": [],
   "source": [
    "my.fun <- function(X.matrix, y.vec, z.scalar) {\n",
    " print(\"xmatrix\")\n",
    " print(X.matrix)\n",
    " print(\"yvec\")\n",
    " print(y.vec)\n",
    " print(\"Dimensions\")\n",
    " print(dim(X.matrix))\n",
    " print(length(y.vec))\n",
    " # use previous function square.it() and save result\n",
    " sq.scalar <- square.it(z.scalar)\n",
    " print(paste(\"sq.scalar=\", sq.scalar))\n",
    " # multiply the matrix by the vector using %*% operator\n",
    " mult <- X.matrix %*% y.vec\n",
    " # multiply the two resulting objects\n",
    " final <- mult * sq.scalar\n",
    " # return the result\n",
    " return(final)\n",
    "}\n",
    "my.fun(X.matrix = my.mat, y.vec = c(2, 3, 6, 4, 1), z.scalar = \n",
    "9)\n",
    "## [1] \"xmatrix\"\n",
    "## [,1] [,2]\n",
    "## [1,] 1 5\n",
    "## [2,] 3 4\n",
    "## [3,] 4 3\n",
    "## [1] \"yvec\"\n",
    "## [1] 2 3 6 4 1\n",
    "## [1] \"Dimensions\"\n",
    "## [1] 3 2\n",
    "## [1] 5\n",
    "## [1] \"sq.scalar= 81\"\n",
    "## Error: non-conformable arguments"
   ]
  },
  {
   "cell_type": "markdown",
   "id": "f089ef8d",
   "metadata": {},
   "source": [
    "Now we can see the actual dimensions of the objects and fix them accordingly. This example is really simple, but you can imagine that if you’ve written a long function that uses many arguments, you could easily lose track of them and not be sure where the issue in your function was. You can also throw in these statements along the way as sanity checks to make sure that things are proceeding as you think they should, even if there isn’t any error.\n",
    "\n",
    "#### Using the stop() and stopifnot() functions to write your own error messages\n",
    "One other trick you can use is writing your own error messages using the **stop()** and **stopifnot()** functions. In this example, if I know I need dimensions to be the right size, I can check them and print out a message that says they are incorrect. That way I know what the issue is immediately. Here’s an example:"
   ]
  },
  {
   "cell_type": "code",
   "execution_count": null,
   "id": "f8c1d6be",
   "metadata": {},
   "outputs": [],
   "source": [
    "my.second.fun <- function(matrix, vector) {\n",
    " if (dim(matrix)[2] != length(vector)) {\n",
    " stop(\"Can't multiply matrix%*%vector because the \n",
    "dimensions are wrong\")\n",
    " }\n",
    " product <- matrix %*% vector\n",
    " return(product)\n",
    "}\n",
    "# function works when dimensions are right\n",
    "my.second.fun(my.mat, c(6, 5))\n",
    "## [,1]\n",
    "## [1,] 31\n",
    "## [2,] 38\n",
    "## [3,] 39\n",
    "# function call triggered error\n",
    "my.second.fun(my.mat, c(6, 5, 7))\n",
    "## Error: Can't multiply matrix%*%vector because the dimensions are wrong"
   ]
  },
  {
   "cell_type": "markdown",
   "id": "2973f49b",
   "metadata": {},
   "source": [
    "You can do these kinds of error messages for yourself as checks so you know exactly \n",
    "what triggered the error. You can think about putting in a check for if the value of an \n",
    "object is 0 if you are dividing by it as another example."
   ]
  },
  {
   "cell_type": "markdown",
   "id": "5ee16622",
   "metadata": {},
   "source": [
    "#### Section 5: Good function writing practices\n",
    "Based on my experience, there are a few good practices that I would recommend keeping in mind when writing function.\n",
    "1. Keep your functions short. Remember you can use them to call other functions!\n",
    "    * If things start to get very long, you can probably split up your function into more manageable chunks that call other functions. This makes your code cleaner and easily testable.\n",
    "    * It also makes your code easy to update. You only have to change one function and every other function that uses that function will also be automatically updated.\n",
    "2. Put in comments on what are the inputs to the function, what the function does, and what is the output.\n",
    "3. Check for errors along the way.\n",
    "    * Try out your function with simple examples to make sure it’s working properly\n",
    "    * Use debugging and error messages, as well as sanity checks as you build your function."
   ]
  },
  {
   "cell_type": "markdown",
   "id": "c2c842d7",
   "metadata": {},
   "source": []
  }
 ],
 "metadata": {
  "kernelspec": {
   "display_name": "R",
   "language": "R",
   "name": "ir"
  },
  "language_info": {
   "codemirror_mode": "r",
   "file_extension": ".r",
   "mimetype": "text/x-r-source",
   "name": "R",
   "pygments_lexer": "r",
   "version": "3.6.1"
  }
 },
 "nbformat": 4,
 "nbformat_minor": 5
}
